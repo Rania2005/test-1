{
 "cells": [
  {
   "cell_type": "code",
   "execution_count": 1,
   "id": "9a9754ee-6d7c-4ef7-b372-a285b21bfa3c",
   "metadata": {},
   "outputs": [
    {
     "name": "stdout",
     "output_type": "stream",
     "text": [
      "BenFtita Rania\n"
     ]
    }
   ],
   "source": [
    "print('BenFtita Rania')"
   ]
  },
  {
   "cell_type": "code",
   "execution_count": 3,
   "id": "797f820f-7077-48a7-8689-a4ebd2708b59",
   "metadata": {},
   "outputs": [
    {
     "name": "stdout",
     "output_type": "stream",
     "text": [
      "615\n"
     ]
    }
   ],
   "source": [
    "n=5\n",
    "print(n*1+n*11+n*111)"
   ]
  },
  {
   "cell_type": "code",
   "execution_count": null,
   "id": "1e1fde9d-c0c2-485c-99af-960885803c06",
   "metadata": {},
   "outputs": [],
   "source": [
    "x=input()\n",
    "if x%2==0:\n",
    "    print('x is even')\n",
    "elif x==0:\n",
    "    print('x is even')\n",
    "else:\n",
    "    print(\"x is odd\")"
   ]
  },
  {
   "cell_type": "code",
   "execution_count": null,
   "id": "a9bd7409-bea5-491a-b816-3141dc9e102f",
   "metadata": {},
   "outputs": [],
   "source": [
    "for i in range (2000,3201):\n",
    "  if i%7==0 and i//5!=0:\n",
    "    print(a)"
   ]
  },
  {
   "cell_type": "code",
   "execution_count": null,
   "id": "c44e1ffd-e185-445c-829b-db1f01975efa",
   "metadata": {},
   "outputs": [],
   "source": [
    "y!=input()\n",
    "for i in range(y!,0,-1):\n",
    "    if y!=40320:\n",
    "        print(i)\n"
   ]
  },
  {
   "cell_type": "code",
   "execution_count": null,
   "id": "db81c008-7d7c-440f-b9c4-be9584fff70f",
   "metadata": {},
   "outputs": [],
   "source": [
    "str=\"hello team\"\n",
    "print(str)"
   ]
  },
  {
   "cell_type": "code",
   "execution_count": null,
   "id": "9daa2e7c-0e5b-4eb8-bfa1-f14d1c398667",
   "metadata": {},
   "outputs": [],
   "source": [
    "for str in range(0,-1,2):\n",
    "    print(str)"
   ]
  },
  {
   "cell_type": "code",
   "execution_count": null,
   "id": "44da90fc-ca12-46fe-88c2-2dd948559120",
   "metadata": {},
   "outputs": [],
   "source": [
    "x=input()\n",
    "if 'x>=500':\n",
    "   a=x-(x*50)/100\n",
    "   print(a)\n",
    "elif '200<=x<500':\n",
    "  b=x-(x*30)/100\n",
    "  print(b)\n",
    "elif 'x<200':\n",
    "  c=x-(x*10)/100\n",
    "  print(c)\n"
   ]
  }
 ],
 "metadata": {
  "kernelspec": {
   "display_name": "Python 3",
   "language": "python",
   "name": "python3"
  },
  "language_info": {
   "codemirror_mode": {
    "name": "ipython",
    "version": 3
   },
   "file_extension": ".py",
   "mimetype": "text/x-python",
   "name": "python",
   "nbconvert_exporter": "python",
   "pygments_lexer": "ipython3",
   "version": "3.8.8"
  }
 },
 "nbformat": 4,
 "nbformat_minor": 5
}
